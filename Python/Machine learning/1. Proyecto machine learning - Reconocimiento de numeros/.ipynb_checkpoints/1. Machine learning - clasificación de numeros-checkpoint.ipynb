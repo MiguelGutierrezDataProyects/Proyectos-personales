{
 "cells": [
  {
   "cell_type": "markdown",
   "id": "66659774-8664-45cf-aa1c-e09cedd76fbd",
   "metadata": {},
   "source": [
    "## Caso de Estudio - Clasificación"
   ]
  },
  {
   "cell_type": "markdown",
   "id": "1368abb2-87b1-4759-8025-ba13f65336d1",
   "metadata": {},
   "source": [
    "### 1.- Cargar el dataset"
   ]
  },
  {
   "cell_type": "markdown",
   "id": "bc223100-ea08-48e9-a5ee-4fa491bb183b",
   "metadata": {},
   "source": [
    "Se carga load_digits desde sklearn.datasets y luego se asigna en un objeto"
   ]
  },
  {
   "cell_type": "code",
   "execution_count": 1,
   "id": "a75b0ef9-9ce5-41e8-8799-dd8c53e85380",
   "metadata": {},
   "outputs": [],
   "source": [
    "from sklearn.datasets import load_digits"
   ]
  },
  {
   "cell_type": "markdown",
   "id": "7c252f6c-4f7a-4b15-a90b-4932f77a01fb",
   "metadata": {},
   "source": [
    "Se revisa la descripcion incluida en el dataset"
   ]
  },
  {
   "cell_type": "code",
   "execution_count": 2,
   "id": "53e8639e-a9fb-4527-92e8-b646a8c218a4",
   "metadata": {},
   "outputs": [],
   "source": [
    "digits = load_digits()"
   ]
  },
  {
   "cell_type": "code",
   "execution_count": 3,
   "id": "2b406cb7-48e1-4f4c-a2d2-b79985c395a4",
   "metadata": {},
   "outputs": [
    {
     "name": "stdout",
     "output_type": "stream",
     "text": [
      ".. _digits_dataset:\n",
      "\n",
      "Optical recognition of handwritten digits dataset\n",
      "--------------------------------------------------\n",
      "\n",
      "**Data Set Characteristics:**\n",
      "\n",
      ":Number of Instances: 1797\n",
      ":Number of Attributes: 64\n",
      ":Attribute Information: 8x8 image of integer pixels in the range 0..16.\n",
      ":Missing Attribute Values: None\n",
      ":Creator: E. Alpaydin (alpaydin '@' boun.edu.tr)\n",
      ":Date: July; 1998\n",
      "\n",
      "This is a copy of the test set of the UCI ML hand-written digits datasets\n",
      "https://archive.ics.uci.edu/ml/datasets/Optical+Recognition+of+Handwritten+Digits\n",
      "\n",
      "The data set contains images of hand-written digits: 10 classes where\n",
      "each class refers to a digit.\n",
      "\n",
      "Preprocessing programs made available by NIST were used to extract\n",
      "normalized bitmaps of handwritten digits from a preprinted form. From a\n",
      "total of 43 people, 30 contributed to the training set and different 13\n",
      "to the test set. 32x32 bitmaps are divided into nonoverlapping blocks of\n",
      "4x4 and the number of on pixels are counted in each block. This generates\n",
      "an input matrix of 8x8 where each element is an integer in the range\n",
      "0..16. This reduces dimensionality and gives invariance to small\n",
      "distortions.\n",
      "\n",
      "For info on NIST preprocessing routines, see M. D. Garris, J. L. Blue, G.\n",
      "T. Candela, D. L. Dimmick, J. Geist, P. J. Grother, S. A. Janet, and C.\n",
      "L. Wilson, NIST Form-Based Handprint Recognition System, NISTIR 5469,\n",
      "1994.\n",
      "\n",
      ".. dropdown:: References\n",
      "\n",
      "  - C. Kaynak (1995) Methods of Combining Multiple Classifiers and Their\n",
      "    Applications to Handwritten Digit Recognition, MSc Thesis, Institute of\n",
      "    Graduate Studies in Science and Engineering, Bogazici University.\n",
      "  - E. Alpaydin, C. Kaynak (1998) Cascading Classifiers, Kybernetika.\n",
      "  - Ken Tang and Ponnuthurai N. Suganthan and Xi Yao and A. Kai Qin.\n",
      "    Linear dimensionalityreduction using relevance weighted LDA. School of\n",
      "    Electrical and Electronic Engineering Nanyang Technological University.\n",
      "    2005.\n",
      "  - Claudio Gentile. A New Approximate Maximal Margin Classification\n",
      "    Algorithm. NIPS. 2000.\n",
      "\n"
     ]
    }
   ],
   "source": [
    "print(digits.DESCR)"
   ]
  },
  {
   "cell_type": "markdown",
   "id": "1159cda1-e0ab-4233-90d7-40f20bbfc40a",
   "metadata": {},
   "source": [
    "Se revisa el target del nuevo objeto digitos"
   ]
  },
  {
   "cell_type": "code",
   "execution_count": 4,
   "id": "d534c916-3b8a-4d1d-802c-ca22caaeae90",
   "metadata": {},
   "outputs": [
    {
     "data": {
      "text/plain": [
       "array([0, 4, 1, 7, 4, 8, 2, 2, 4, 4, 1, 9, 7, 3, 2, 1, 2, 5])"
      ]
     },
     "execution_count": 4,
     "metadata": {},
     "output_type": "execute_result"
    }
   ],
   "source": [
    "digits.target[::100]"
   ]
  },
  {
   "cell_type": "markdown",
   "id": "2f1292a2-51d5-4178-ad95-f64cdd0040a8",
   "metadata": {},
   "source": [
    "Se observa forma del arreglo digitos"
   ]
  },
  {
   "cell_type": "code",
   "execution_count": 5,
   "id": "87a5fe7c-5677-4e4f-b40b-592f0ab46ba6",
   "metadata": {},
   "outputs": [
    {
     "data": {
      "text/plain": [
       "(1797, 64)"
      ]
     },
     "execution_count": 5,
     "metadata": {},
     "output_type": "execute_result"
    }
   ],
   "source": [
    "digits.data.shape"
   ]
  },
  {
   "cell_type": "markdown",
   "id": "2c6e620b-2584-4121-a891-51359b225e94",
   "metadata": {},
   "source": [
    "Y la forma del arreglo target"
   ]
  },
  {
   "cell_type": "code",
   "execution_count": 6,
   "id": "82d7e338-f6af-4d91-afb2-d4a0a8fba3ff",
   "metadata": {},
   "outputs": [
    {
     "data": {
      "text/plain": [
       "(1797,)"
      ]
     },
     "execution_count": 6,
     "metadata": {},
     "output_type": "execute_result"
    }
   ],
   "source": [
    "digits.target.shape"
   ]
  },
  {
   "cell_type": "markdown",
   "id": "66da1355-fd87-4e11-8aad-ce35cdeb4858",
   "metadata": {},
   "source": [
    "### 2.- Visualizar los datos"
   ]
  },
  {
   "cell_type": "markdown",
   "id": "10558a16-9258-473a-af9b-9963a3aaa565",
   "metadata": {},
   "source": [
    "Visualicemos los datos utilizando matplotlib"
   ]
  },
  {
   "cell_type": "code",
   "execution_count": 9,
   "id": "88ed208f-3b07-427e-af62-2e7a45e17201",
   "metadata": {},
   "outputs": [],
   "source": [
    "import matplotlib.pyplot as plt"
   ]
  },
  {
   "cell_type": "markdown",
   "id": "f9a06e62-4bfe-4fe1-9363-f024f9f2e56d",
   "metadata": {},
   "source": [
    "Se crea una cuadricula para poder visualizar los arreglos"
   ]
  },
  {
   "cell_type": "code",
   "execution_count": 10,
   "id": "ccc3632e-39fe-4712-a612-982f68f660ab",
   "metadata": {},
   "outputs": [
    {
     "data": {
      "image/png": "[encoded data removed]",
      "text/plain": [
       "<Figure size 600x400 with 24 Axes>"
      ]
     },
     "metadata": {},
     "output_type": "display_data"
    }
   ],
   "source": [
    "fig, ax = plt.subplots(nrows=4, ncols=6, figsize=(6,4))"
   ]
  },
  {
   "cell_type": "markdown",
   "id": "24e99395-fa4b-45f4-a988-905300df7a3e",
   "metadata": {},
   "source": [
    "Ahora vamos a usar un for para iterar en paralelo a traves de los 24 cuadritos y traer las priemras 24 imagenes"
   ]
  },
  {
   "cell_type": "code",
   "execution_count": 11,
   "id": "3e08ccfb-9bf0-4bf8-b6bd-d72f774bd210",
   "metadata": {},
   "outputs": [
    {
     "data": {
      "image/png": "[encoded data removed]",
      "text/plain": [
       "<Figure size 600x400 with 24 Axes>"
      ]
     },
     "metadata": {},
     "output_type": "display_data"
    }
   ],
   "source": [
    "figure, axes = plt.subplots(nrows=4, ncols=6, figsize=(6,4))\n",
    "for item in zip(axes.ravel(), digits.images, digits.target):\n",
    "    axes, image, target = item\n",
    "    axes.imshow(image, cmap=plt.cm.gray_r)\n",
    "    axes.set_xticks([])\n",
    "    axes.set_yticks([])\n",
    "    axes.set_title(target)\n",
    "plt.tight_layout()"
   ]
  },
  {
   "cell_type": "markdown",
   "id": "a9998b01-92f4-4706-bf8a-02c5e0b097ae",
   "metadata": {},
   "source": [
    "### 3.- Separar el dataset para entrenamientos y pruebas"
   ]
  },
  {
   "cell_type": "markdown",
   "id": "d76cd7e5-3c39-403f-9006-a658a540f6bc",
   "metadata": {},
   "source": [
    "Ahora se importar train_test_split desde sklearn.model_selection"
   ]
  },
  {
   "cell_type": "code",
   "execution_count": 12,
   "id": "56b6b765-d913-4775-b40e-b8ce4a7ba160",
   "metadata": {},
   "outputs": [],
   "source": [
    "from sklearn.model_selection import train_test_split"
   ]
  },
  {
   "cell_type": "markdown",
   "id": "8f574e33-8b2a-4639-bef5-93e086bab654",
   "metadata": {},
   "source": [
    "Y a continuación se genera el split entre test y train"
   ]
  },
  {
   "cell_type": "code",
   "execution_count": 13,
   "id": "16d269bb-3892-4162-b7bf-9d5ef5037287",
   "metadata": {},
   "outputs": [],
   "source": [
    "x_train, x_test, y_train, y_test = train_test_split(digits.data, digits.target, random_state=11)"
   ]
  },
  {
   "cell_type": "markdown",
   "id": "726c76da-0b3c-44ff-9581-55be26e8c17d",
   "metadata": {},
   "source": [
    "Veamos las shapes de nuestros sets para X (muestras)"
   ]
  },
  {
   "cell_type": "code",
   "execution_count": 14,
   "id": "f2327c48-7561-4167-aea5-68d58048e772",
   "metadata": {},
   "outputs": [
    {
     "data": {
      "text/plain": [
       "(1347, 64)"
      ]
     },
     "execution_count": 14,
     "metadata": {},
     "output_type": "execute_result"
    }
   ],
   "source": [
    "x_train.shape"
   ]
  },
  {
   "cell_type": "code",
   "execution_count": 15,
   "id": "9606c61e-87f5-46f1-b6f7-3b0f1d0933a5",
   "metadata": {},
   "outputs": [
    {
     "data": {
      "text/plain": [
       "(450, 64)"
      ]
     },
     "execution_count": 15,
     "metadata": {},
     "output_type": "execute_result"
    }
   ],
   "source": [
    "x_test.shape"
   ]
  },
  {
   "cell_type": "markdown",
   "id": "22292fd6-2cba-48b0-9265-4c6bda2604c7",
   "metadata": {},
   "source": [
    "### 4.- Crear el modelo"
   ]
  },
  {
   "cell_type": "markdown",
   "id": "2a3ea503-a440-446c-a169-6184d4b25f97",
   "metadata": {},
   "source": [
    "Ahora importamos el KNeighborsClassifier"
   ]
  },
  {
   "cell_type": "code",
   "execution_count": 16,
   "id": "ebd8f27c-9f76-4f94-95cd-41ea688936a7",
   "metadata": {},
   "outputs": [],
   "source": [
    "from sklearn.neighbors import KNeighborsClassifier"
   ]
  },
  {
   "cell_type": "markdown",
   "id": "c5f8308b-7a1c-41b3-9f45-3dfa96670d8b",
   "metadata": {},
   "source": [
    "y armamos un objeto llamado KNN de este Clasificador"
   ]
  },
  {
   "cell_type": "code",
   "execution_count": 17,
   "id": "78b63a3d-5d16-4253-aaf0-a6731d6845dc",
   "metadata": {},
   "outputs": [],
   "source": [
    "knn = KNeighborsClassifier()"
   ]
  },
  {
   "cell_type": "markdown",
   "id": "4e70a922-cafc-4b9d-94f6-b87a424ea6e5",
   "metadata": {},
   "source": [
    "### 5.- Entrenar el modelo"
   ]
  },
  {
   "cell_type": "markdown",
   "id": "8223bce9-8674-42ff-84ec-2c2528b91578",
   "metadata": {},
   "source": [
    "Ahora se ajusta el método fit para cargar los datos en el estimador"
   ]
  },
  {
   "cell_type": "code",
   "execution_count": 18,
   "id": "f08b5da6-9f72-4a4d-9eb1-8312ce972b08",
   "metadata": {},
   "outputs": [
    {
     "data": {
      "text/html": [
       "<style>#sk-container-id-1 {\n",
       "  /* Definition of color scheme common for light and dark mode */\n",
       "  --sklearn-color-text: black;\n",
       "  --sklearn-color-line: gray;\n",
       "  /* Definition of color scheme for unfitted estimators */\n",
       "  --sklearn-color-unfitted-level-0: #fff5e6;\n",
       "  --sklearn-color-unfitted-level-1: #f6e4d2;\n",
       "  --sklearn-color-unfitted-level-2: #ffe0b3;\n",
       "  --sklearn-color-unfitted-level-3: chocolate;\n",
       "  /* Definition of color scheme for fitted estimators */\n",
       "  --sklearn-color-fitted-level-0: #f0f8ff;\n",
       "  --sklearn-color-fitted-level-1: #d4ebff;\n",
       "  --sklearn-color-fitted-level-2: #b3dbfd;\n",
       "  --sklearn-color-fitted-level-3: cornflowerblue;\n",
       "\n",
       "  /* Specific color for light theme */\n",
       "  --sklearn-color-text-on-default-background: var(--sg-text-color, var(--theme-code-foreground, var(--jp-content-font-color1, black)));\n",
       "  --sklearn-color-background: var(--sg-background-color, var(--theme-background, var(--jp-layout-color0, white)));\n",
       "  --sklearn-color-border-box: var(--sg-text-color, var(--theme-code-foreground, var(--jp-content-font-color1, black)));\n",
       "  --sklearn-color-icon: #696969;\n",
       "\n",
       "  @media (prefers-color-scheme: dark) {\n",
       "    /* Redefinition of color scheme for dark theme */\n",
       "    --sklearn-color-text-on-default-background: var(--sg-text-color, var(--theme-code-foreground, var(--jp-content-font-color1, white)));\n",
       "    --sklearn-color-background: var(--sg-background-color, var(--theme-background, var(--jp-layout-color0, #111)));\n",
       "    --sklearn-color-border-box: var(--sg-text-color, var(--theme-code-foreground, var(--jp-content-font-color1, white)));\n",
       "    --sklearn-color-icon: #878787;\n",
       "  }\n",
       "}\n",
       "\n",
       "#sk-container-id-1 {\n",
       "  color: var(--sklearn-color-text);\n",
       "}\n",
       "\n",
       "#sk-container-id-1 pre {\n",
       "  padding: 0;\n",
       "}\n",
       "\n",
       "#sk-container-id-1 input.sk-hidden--visually {\n",
       "  border: 0;\n",
       "  clip: rect(1px 1px 1px 1px);\n",
       "  clip: rect(1px, 1px, 1px, 1px);\n",
       "  height: 1px;\n",
       "  margin: -1px;\n",
       "  overflow: hidden;\n",
       "  padding: 0;\n",
       "  position: absolute;\n",
       "  width: 1px;\n",
       "}\n",
       "\n",
       "#sk-container-id-1 div.sk-dashed-wrapped {\n",
       "  border: 1px dashed var(--sklearn-color-line);\n",
       "  margin: 0 0.4em 0.5em 0.4em;\n",
       "  box-sizing: border-box;\n",
       "  padding-bottom: 0.4em;\n",
       "  background-color: var(--sklearn-color-background);\n",
       "}\n",
       "\n",
       "#sk-container-id-1 div.sk-container {\n",
       "  /* jupyter's `normalize.less` sets `[hidden] { display: none; }`\n",
       "     but bootstrap.min.css set `[hidden] { display: none !important; }`\n",
       "     so we also need the `!important` here to be able to override the\n",
       "     default hidden behavior on the sphinx rendered scikit-learn.org.\n",
       "     See: https://github.com/scikit-learn/scikit-learn/issues/21755 */\n",
       "  display: inline-block !important;\n",
       "  position: relative;\n",
       "}\n",
       "\n",
       "#sk-container-id-1 div.sk-text-repr-fallback {\n",
       "  display: none;\n",
       "}\n",
       "\n",
       "div.sk-parallel-item,\n",
       "div.sk-serial,\n",
       "div.sk-item {\n",
       "  /* draw centered vertical line to link estimators */\n",
       "  background-image: linear-gradient(var(--sklearn-color-text-on-default-background), var(--sklearn-color-text-on-default-background));\n",
       "  background-size: 2px 100%;\n",
       "  background-repeat: no-repeat;\n",
       "  background-position: center center;\n",
       "}\n",
       "\n",
       "/* Parallel-specific style estimator block */\n",
       "\n",
       "#sk-container-id-1 div.sk-parallel-item::after {\n",
       "  content: \"\";\n",
       "  width: 100%;\n",
       "  border-bottom: 2px solid var(--sklearn-color-text-on-default-background);\n",
       "  flex-grow: 1;\n",
       "}\n",
       "\n",
       "#sk-container-id-1 div.sk-parallel {\n",
       "  display: flex;\n",
       "  align-items: stretch;\n",
       "  justify-content: center;\n",
       "  background-color: var(--sklearn-color-background);\n",
       "  position: relative;\n",
       "}\n",
       "\n",
       "#sk-container-id-1 div.sk-parallel-item {\n",
       "  display: flex;\n",
       "  flex-direction: column;\n",
       "}\n",
       "\n",
       "#sk-container-id-1 div.sk-parallel-item:first-child::after {\n",
       "  align-self: flex-end;\n",
       "  width: 50%;\n",
       "}\n",
       "\n",
       "#sk-container-id-1 div.sk-parallel-item:last-child::after {\n",
       "  align-self: flex-start;\n",
       "  width: 50%;\n",
       "}\n",
       "\n",
       "#sk-container-id-1 div.sk-parallel-item:only-child::after {\n",
       "  width: 0;\n",
       "}\n",
       "\n",
       "/* Serial-specific style estimator block */\n",
       "\n",
       "#sk-container-id-1 div.sk-serial {\n",
       "  display: flex;\n",
       "  flex-direction: column;\n",
       "  align-items: center;\n",
       "  background-color: var(--sklearn-color-background);\n",
       "  padding-right: 1em;\n",
       "  padding-left: 1em;\n",
       "}\n",
       "\n",
       "\n",
       "/* Toggleable style: style used for estimator/Pipeline/ColumnTransformer box that is\n",
       "clickable and can be expanded/collapsed.\n",
       "- Pipeline and ColumnTransformer use this feature and define the default style\n",
       "- Estimators will overwrite some part of the style using the `sk-estimator` class\n",
       "*/\n",
       "\n",
       "/* Pipeline and ColumnTransformer style (default) */\n",
       "\n",
       "#sk-container-id-1 div.sk-toggleable {\n",
       "  /* Default theme specific background. It is overwritten whether we have a\n",
       "  specific estimator or a Pipeline/ColumnTransformer */\n",
       "  background-color: var(--sklearn-color-background);\n",
       "}\n",
       "\n",
       "/* Toggleable label */\n",
       "#sk-container-id-1 label.sk-toggleable__label {\n",
       "  cursor: pointer;\n",
       "  display: block;\n",
       "  width: 100%;\n",
       "  margin-bottom: 0;\n",
       "  padding: 0.5em;\n",
       "  box-sizing: border-box;\n",
       "  text-align: center;\n",
       "}\n",
       "\n",
       "#sk-container-id-1 label.sk-toggleable__label-arrow:before {\n",
       "  /* Arrow on the left of the label */\n",
       "  content: \"▸\";\n",
       "  float: left;\n",
       "  margin-right: 0.25em;\n",
       "  color: var(--sklearn-color-icon);\n",
       "}\n",
       "\n",
       "#sk-container-id-1 label.sk-toggleable__label-arrow:hover:before {\n",
       "  color: var(--sklearn-color-text);\n",
       "}\n",
       "\n",
       "/* Toggleable content - dropdown */\n",
       "\n",
       "#sk-container-id-1 div.sk-toggleable__content {\n",
       "  max-height: 0;\n",
       "  max-width: 0;\n",
       "  overflow: hidden;\n",
       "  text-align: left;\n",
       "  /* unfitted */\n",
       "  background-color: var(--sklearn-color-unfitted-level-0);\n",
       "}\n",
       "\n",
       "#sk-container-id-1 div.sk-toggleable__content.fitted {\n",
       "  /* fitted */\n",
       "  background-color: var(--sklearn-color-fitted-level-0);\n",
       "}\n",
       "\n",
       "#sk-container-id-1 div.sk-toggleable__content pre {\n",
       "  margin: 0.2em;\n",
       "  border-radius: 0.25em;\n",
       "  color: var(--sklearn-color-text);\n",
       "  /* unfitted */\n",
       "  background-color: var(--sklearn-color-unfitted-level-0);\n",
       "}\n",
       "\n",
       "#sk-container-id-1 div.sk-toggleable__content.fitted pre {\n",
       "  /* unfitted */\n",
       "  background-color: var(--sklearn-color-fitted-level-0);\n",
       "}\n",
       "\n",
       "#sk-container-id-1 input.sk-toggleable__control:checked~div.sk-toggleable__content {\n",
       "  /* Expand drop-down */\n",
       "  max-height: 200px;\n",
       "  max-width: 100%;\n",
       "  overflow: auto;\n",
       "}\n",
       "\n",
       "#sk-container-id-1 input.sk-toggleable__control:checked~label.sk-toggleable__label-arrow:before {\n",
       "  content: \"▾\";\n",
       "}\n",
       "\n",
       "/* Pipeline/ColumnTransformer-specific style */\n",
       "\n",
       "#sk-container-id-1 div.sk-label input.sk-toggleable__control:checked~label.sk-toggleable__label {\n",
       "  color: var(--sklearn-color-text);\n",
       "  background-color: var(--sklearn-color-unfitted-level-2);\n",
       "}\n",
       "\n",
       "#sk-container-id-1 div.sk-label.fitted input.sk-toggleable__control:checked~label.sk-toggleable__label {\n",
       "  background-color: var(--sklearn-color-fitted-level-2);\n",
       "}\n",
       "\n",
       "/* Estimator-specific style */\n",
       "\n",
       "/* Colorize estimator box */\n",
       "#sk-container-id-1 div.sk-estimator input.sk-toggleable__control:checked~label.sk-toggleable__label {\n",
       "  /* unfitted */\n",
       "  background-color: var(--sklearn-color-unfitted-level-2);\n",
       "}\n",
       "\n",
       "#sk-container-id-1 div.sk-estimator.fitted input.sk-toggleable__control:checked~label.sk-toggleable__label {\n",
       "  /* fitted */\n",
       "  background-color: var(--sklearn-color-fitted-level-2);\n",
       "}\n",
       "\n",
       "#sk-container-id-1 div.sk-label label.sk-toggleable__label,\n",
       "#sk-container-id-1 div.sk-label label {\n",
       "  /* The background is the default theme color */\n",
       "  color: var(--sklearn-color-text-on-default-background);\n",
       "}\n",
       "\n",
       "/* On hover, darken the color of the background */\n",
       "#sk-container-id-1 div.sk-label:hover label.sk-toggleable__label {\n",
       "  color: var(--sklearn-color-text);\n",
       "  background-color: var(--sklearn-color-unfitted-level-2);\n",
       "}\n",
       "\n",
       "/* Label box, darken color on hover, fitted */\n",
       "#sk-container-id-1 div.sk-label.fitted:hover label.sk-toggleable__label.fitted {\n",
       "  color: var(--sklearn-color-text);\n",
       "  background-color: var(--sklearn-color-fitted-level-2);\n",
       "}\n",
       "\n",
       "/* Estimator label */\n",
       "\n",
       "#sk-container-id-1 div.sk-label label {\n",
       "  font-family: monospace;\n",
       "  font-weight: bold;\n",
       "  display: inline-block;\n",
       "  line-height: 1.2em;\n",
       "}\n",
       "\n",
       "#sk-container-id-1 div.sk-label-container {\n",
       "  text-align: center;\n",
       "}\n",
       "\n",
       "/* Estimator-specific */\n",
       "#sk-container-id-1 div.sk-estimator {\n",
       "  font-family: monospace;\n",
       "  border: 1px dotted var(--sklearn-color-border-box);\n",
       "  border-radius: 0.25em;\n",
       "  box-sizing: border-box;\n",
       "  margin-bottom: 0.5em;\n",
       "  /* unfitted */\n",
       "  background-color: var(--sklearn-color-unfitted-level-0);\n",
       "}\n",
       "\n",
       "#sk-container-id-1 div.sk-estimator.fitted {\n",
       "  /* fitted */\n",
       "  background-color: var(--sklearn-color-fitted-level-0);\n",
       "}\n",
       "\n",
       "/* on hover */\n",
       "#sk-container-id-1 div.sk-estimator:hover {\n",
       "  /* unfitted */\n",
       "  background-color: var(--sklearn-color-unfitted-level-2);\n",
       "}\n",
       "\n",
       "#sk-container-id-1 div.sk-estimator.fitted:hover {\n",
       "  /* fitted */\n",
       "  background-color: var(--sklearn-color-fitted-level-2);\n",
       "}\n",
       "\n",
       "/* Specification for estimator info (e.g. \"i\" and \"?\") */\n",
       "\n",
       "/* Common style for \"i\" and \"?\" */\n",
       "\n",
       ".sk-estimator-doc-link,\n",
       "a:link.sk-estimator-doc-link,\n",
       "a:visited.sk-estimator-doc-link {\n",
       "  float: right;\n",
       "  font-size: smaller;\n",
       "  line-height: 1em;\n",
       "  font-family: monospace;\n",
       "  background-color: var(--sklearn-color-background);\n",
       "  border-radius: 1em;\n",
       "  height: 1em;\n",
       "  width: 1em;\n",
       "  text-decoration: none !important;\n",
       "  margin-left: 1ex;\n",
       "  /* unfitted */\n",
       "  border: var(--sklearn-color-unfitted-level-1) 1pt solid;\n",
       "  color: var(--sklearn-color-unfitted-level-1);\n",
       "}\n",
       "\n",
       ".sk-estimator-doc-link.fitted,\n",
       "a:link.sk-estimator-doc-link.fitted,\n",
       "a:visited.sk-estimator-doc-link.fitted {\n",
       "  /* fitted */\n",
       "  border: var(--sklearn-color-fitted-level-1) 1pt solid;\n",
       "  color: var(--sklearn-color-fitted-level-1);\n",
       "}\n",
       "\n",
       "/* On hover */\n",
       "div.sk-estimator:hover .sk-estimator-doc-link:hover,\n",
       ".sk-estimator-doc-link:hover,\n",
       "div.sk-label-container:hover .sk-estimator-doc-link:hover,\n",
       ".sk-estimator-doc-link:hover {\n",
       "  /* unfitted */\n",
       "  background-color: var(--sklearn-color-unfitted-level-3);\n",
       "  color: var(--sklearn-color-background);\n",
       "  text-decoration: none;\n",
       "}\n",
       "\n",
       "div.sk-estimator.fitted:hover .sk-estimator-doc-link.fitted:hover,\n",
       ".sk-estimator-doc-link.fitted:hover,\n",
       "div.sk-label-container:hover .sk-estimator-doc-link.fitted:hover,\n",
       ".sk-estimator-doc-link.fitted:hover {\n",
       "  /* fitted */\n",
       "  background-color: var(--sklearn-color-fitted-level-3);\n",
       "  color: var(--sklearn-color-background);\n",
       "  text-decoration: none;\n",
       "}\n",
       "\n",
       "/* Span, style for the box shown on hovering the info icon */\n",
       ".sk-estimator-doc-link span {\n",
       "  display: none;\n",
       "  z-index: 9999;\n",
       "  position: relative;\n",
       "  font-weight: normal;\n",
       "  right: .2ex;\n",
       "  padding: .5ex;\n",
       "  margin: .5ex;\n",
       "  width: min-content;\n",
       "  min-width: 20ex;\n",
       "  max-width: 50ex;\n",
       "  color: var(--sklearn-color-text);\n",
       "  box-shadow: 2pt 2pt 4pt #999;\n",
       "  /* unfitted */\n",
       "  background: var(--sklearn-color-unfitted-level-0);\n",
       "  border: .5pt solid var(--sklearn-color-unfitted-level-3);\n",
       "}\n",
       "\n",
       ".sk-estimator-doc-link.fitted span {\n",
       "  /* fitted */\n",
       "  background: var(--sklearn-color-fitted-level-0);\n",
       "  border: var(--sklearn-color-fitted-level-3);\n",
       "}\n",
       "\n",
       ".sk-estimator-doc-link:hover span {\n",
       "  display: block;\n",
       "}\n",
       "\n",
       "/* \"?\"-specific style due to the `<a>` HTML tag */\n",
       "\n",
       "#sk-container-id-1 a.estimator_doc_link {\n",
       "  float: right;\n",
       "  font-size: 1rem;\n",
       "  line-height: 1em;\n",
       "  font-family: monospace;\n",
       "  background-color: var(--sklearn-color-background);\n",
       "  border-radius: 1rem;\n",
       "  height: 1rem;\n",
       "  width: 1rem;\n",
       "  text-decoration: none;\n",
       "  /* unfitted */\n",
       "  color: var(--sklearn-color-unfitted-level-1);\n",
       "  border: var(--sklearn-color-unfitted-level-1) 1pt solid;\n",
       "}\n",
       "\n",
       "#sk-container-id-1 a.estimator_doc_link.fitted {\n",
       "  /* fitted */\n",
       "  border: var(--sklearn-color-fitted-level-1) 1pt solid;\n",
       "  color: var(--sklearn-color-fitted-level-1);\n",
       "}\n",
       "\n",
       "/* On hover */\n",
       "#sk-container-id-1 a.estimator_doc_link:hover {\n",
       "  /* unfitted */\n",
       "  background-color: var(--sklearn-color-unfitted-level-3);\n",
       "  color: var(--sklearn-color-background);\n",
       "  text-decoration: none;\n",
       "}\n",
       "\n",
       "#sk-container-id-1 a.estimator_doc_link.fitted:hover {\n",
       "  /* fitted */\n",
       "  background-color: var(--sklearn-color-fitted-level-3);\n",
       "}\n",
       "</style><div id=\"sk-container-id-1\" class=\"sk-top-container\"><div class=\"sk-text-repr-fallback\"><pre>KNeighborsClassifier()</pre><b>In a Jupyter environment, please rerun this cell to show the HTML representation or trust the notebook. <br />On GitHub, the HTML representation is unable to render, please try loading this page with nbviewer.org.</b></div><div class=\"sk-container\" hidden><div class=\"sk-item\"><div class=\"sk-estimator fitted sk-toggleable\"><input class=\"sk-toggleable__control sk-hidden--visually\" id=\"sk-estimator-id-1\" type=\"checkbox\" checked><label for=\"sk-estimator-id-1\" class=\"sk-toggleable__label fitted sk-toggleable__label-arrow fitted\">&nbsp;&nbsp;KNeighborsClassifier<a class=\"sk-estimator-doc-link fitted\" rel=\"noreferrer\" target=\"_blank\" href=\"https://scikit-learn.org/1.5/modules/generated/sklearn.neighbors.KNeighborsClassifier.html\">?<span>Documentation for KNeighborsClassifier</span></a><span class=\"sk-estimator-doc-link fitted\">i<span>Fitted</span></span></label><div class=\"sk-toggleable__content fitted\"><pre>KNeighborsClassifier()</pre></div> </div></div></div></div>"
      ],
      "text/plain": [
       "KNeighborsClassifier()"
      ]
     },
     "execution_count": 18,
     "metadata": {},
     "output_type": "execute_result"
    }
   ],
   "source": [
    "knn.fit(X=x_train, y=y_train)"
   ]
  },
  {
   "cell_type": "markdown",
   "id": "400ff29c-dada-4d4b-9fc2-3b5e4fcaa3e8",
   "metadata": {},
   "source": [
    "### 6.- Predecir clases de dígitos"
   ]
  },
  {
   "cell_type": "markdown",
   "id": "bffae350-6cf8-4c6c-a106-340b25187af8",
   "metadata": {
    "tags": []
   },
   "source": [
    "Arma un objeto llamdo prediccion"
   ]
  },
  {
   "cell_type": "code",
   "execution_count": 19,
   "id": "c4c5fe74-540c-4892-b589-4fea55c498b0",
   "metadata": {},
   "outputs": [],
   "source": [
    "prediccion = knn.predict(X=x_test)"
   ]
  },
  {
   "cell_type": "markdown",
   "id": "a3a3b2d6-be45-4dbf-b4ed-02eb63f14a8c",
   "metadata": {},
   "source": [
    "Arma un objeto llamado esperado"
   ]
  },
  {
   "cell_type": "code",
   "execution_count": 20,
   "id": "30360ec4-3afe-4e6e-aead-bb97bcbd24bd",
   "metadata": {},
   "outputs": [],
   "source": [
    "esperado = y_test"
   ]
  },
  {
   "cell_type": "markdown",
   "id": "41ad9a4f-b23c-44e2-b45e-962183e714f8",
   "metadata": {},
   "source": [
    "Comparemos predicho vs esperado"
   ]
  },
  {
   "cell_type": "code",
   "execution_count": 21,
   "id": "51f23ce5-1c89-4d54-97a3-6d653abb5151",
   "metadata": {},
   "outputs": [
    {
     "data": {
      "text/plain": [
       "array([0, 4, 9, 9, 3, 1, 4, 1, 5, 0, 4, 9, 4, 1, 5, 3, 3, 8, 5, 6])"
      ]
     },
     "execution_count": 21,
     "metadata": {},
     "output_type": "execute_result"
    }
   ],
   "source": [
    "prediccion[:20]"
   ]
  },
  {
   "cell_type": "code",
   "execution_count": 22,
   "id": "02bcd5e5-c152-4629-9f0a-d184962bb172",
   "metadata": {},
   "outputs": [
    {
     "data": {
      "text/plain": [
       "array([0, 4, 9, 9, 3, 1, 4, 1, 5, 0, 4, 9, 4, 1, 5, 3, 3, 8, 3, 6])"
      ]
     },
     "execution_count": 22,
     "metadata": {},
     "output_type": "execute_result"
    }
   ],
   "source": [
    "esperado[:20]"
   ]
  },
  {
   "cell_type": "markdown",
   "id": "fb53082f-3282-47cb-8492-acdab80ccca5",
   "metadata": {},
   "source": [
    "Se crea una comprension de lista para localizar todas las predicciones incorrectas"
   ]
  },
  {
   "cell_type": "code",
   "execution_count": 23,
   "id": "53e086e6-efff-4784-bfc9-c32ef56ed8d7",
   "metadata": {},
   "outputs": [],
   "source": [
    "x = [(p,e) for (p,e) in zip(prediccion, esperado) if p != e]"
   ]
  },
  {
   "cell_type": "code",
   "execution_count": 24,
   "id": "0e6d9065-fefe-4414-9ac0-7d785c79c3d5",
   "metadata": {},
   "outputs": [
    {
     "data": {
      "text/plain": [
       "[(5, 3),\n",
       " (8, 9),\n",
       " (4, 9),\n",
       " (7, 3),\n",
       " (7, 4),\n",
       " (2, 8),\n",
       " (9, 8),\n",
       " (3, 8),\n",
       " (3, 8),\n",
       " (1, 8)]"
      ]
     },
     "execution_count": 24,
     "metadata": {},
     "output_type": "execute_result"
    }
   ],
   "source": [
    "x"
   ]
  },
  {
   "cell_type": "markdown",
   "id": "f98e3d53-6ab7-4823-b1d7-285bc5e97247",
   "metadata": {},
   "source": [
    "## Clasificación parte 2 - Dataset de digitos"
   ]
  },
  {
   "cell_type": "markdown",
   "id": "27d9c8d6-ee3a-449d-a425-17c63460417e",
   "metadata": {},
   "source": [
    "### 7.- Metricas para la exactitud del modelo"
   ]
  },
  {
   "cell_type": "markdown",
   "id": "051f649d-419b-4d66-beab-48242813a57b",
   "metadata": {},
   "source": [
    "Se usa knn.score para conocer que tan bien se desempeño el estimador"
   ]
  },
  {
   "cell_type": "code",
   "execution_count": 25,
   "id": "1dc43c6c-85b3-4aa5-b6e5-93c2756f7dda",
   "metadata": {},
   "outputs": [
    {
     "name": "stdout",
     "output_type": "stream",
     "text": [
      "97.78%\n"
     ]
    }
   ],
   "source": [
    "print(f'{knn.score(x_test, y_test):.2%}')"
   ]
  },
  {
   "cell_type": "markdown",
   "id": "ec80de30-6ed4-4c5c-b6bd-bb9f5165b77a",
   "metadata": {},
   "source": [
    "Ahora vamos a ahacer una matriz de confusion para ver los hits y misses para una clase dada, esto por medio de la funcion matriz de confusión desde sklearn metricsModule"
   ]
  },
  {
   "cell_type": "code",
   "execution_count": 26,
   "id": "e15188ec-9e68-4b9a-ae26-7dbc20bfb6ab",
   "metadata": {},
   "outputs": [],
   "source": [
    "from sklearn.metrics import confusion_matrix"
   ]
  },
  {
   "cell_type": "markdown",
   "id": "c9b94c9b-1a53-468d-a478-eca6d0677fed",
   "metadata": {},
   "source": [
    "Y ahora se crea la matriz de confusion"
   ]
  },
  {
   "cell_type": "code",
   "execution_count": 27,
   "id": "655e13bc-e49e-4006-beb0-bbab290404d4",
   "metadata": {},
   "outputs": [],
   "source": [
    "confusion = confusion_matrix(y_true=esperado, y_pred=prediccion)"
   ]
  },
  {
   "cell_type": "code",
   "execution_count": 28,
   "id": "bccba9c4-c673-4118-9fd7-44467ac47ba2",
   "metadata": {},
   "outputs": [
    {
     "data": {
      "text/plain": [
       "array([[45,  0,  0,  0,  0,  0,  0,  0,  0,  0],\n",
       "       [ 0, 45,  0,  0,  0,  0,  0,  0,  0,  0],\n",
       "       [ 0,  0, 54,  0,  0,  0,  0,  0,  0,  0],\n",
       "       [ 0,  0,  0, 42,  0,  1,  0,  1,  0,  0],\n",
       "       [ 0,  0,  0,  0, 49,  0,  0,  1,  0,  0],\n",
       "       [ 0,  0,  0,  0,  0, 38,  0,  0,  0,  0],\n",
       "       [ 0,  0,  0,  0,  0,  0, 42,  0,  0,  0],\n",
       "       [ 0,  0,  0,  0,  0,  0,  0, 45,  0,  0],\n",
       "       [ 0,  1,  1,  2,  0,  0,  0,  0, 39,  1],\n",
       "       [ 0,  0,  0,  0,  1,  0,  0,  0,  1, 41]], dtype=int64)"
      ]
     },
     "execution_count": 28,
     "metadata": {},
     "output_type": "execute_result"
    }
   ],
   "source": [
    "confusion"
   ]
  },
  {
   "cell_type": "markdown",
   "id": "5137a837-b1a9-4285-9b34-36a3ccfbbba0",
   "metadata": {},
   "source": [
    "Ahora se realizara un reporte de calsificación, importando classification_report desde sklearn.metrics"
   ]
  },
  {
   "cell_type": "code",
   "execution_count": 29,
   "id": "3784f7b8-1d99-447b-9396-b3adb4063fac",
   "metadata": {},
   "outputs": [],
   "source": [
    "from sklearn.metrics import classification_report"
   ]
  },
  {
   "cell_type": "markdown",
   "id": "e30a4ed2-2a38-4a9b-8d33-6f9fdd3adc64",
   "metadata": {},
   "source": [
    "Y ahora se crea una comprension de lista que retorne los nombres de los digitos"
   ]
  },
  {
   "cell_type": "code",
   "execution_count": 30,
   "id": "0d6ecedc-46cd-4121-9389-be60fb38f3d7",
   "metadata": {},
   "outputs": [],
   "source": [
    "nombres = [str(nombre) for nombre in digits.target_names]"
   ]
  },
  {
   "cell_type": "code",
   "execution_count": 31,
   "id": "f40ffca6-9ded-4c73-bb88-f6507d67c3ba",
   "metadata": {},
   "outputs": [
    {
     "data": {
      "text/plain": [
       "['0', '1', '2', '3', '4', '5', '6', '7', '8', '9']"
      ]
     },
     "execution_count": 31,
     "metadata": {},
     "output_type": "execute_result"
    }
   ],
   "source": [
    "nombres"
   ]
  },
  {
   "cell_type": "markdown",
   "id": "582cbe18-e5d7-4acf-a374-d180c64768c7",
   "metadata": {},
   "source": [
    "Y se realiza el reporte de clasificacion"
   ]
  },
  {
   "cell_type": "code",
   "execution_count": 32,
   "id": "e15fe30a-1f23-4bf6-91c9-a51f7b8799e0",
   "metadata": {},
   "outputs": [
    {
     "name": "stdout",
     "output_type": "stream",
     "text": [
      "              precision    recall  f1-score   support\n",
      "\n",
      "           0       1.00      1.00      1.00        45\n",
      "           1       0.98      1.00      0.99        45\n",
      "           2       0.98      1.00      0.99        54\n",
      "           3       0.95      0.95      0.95        44\n",
      "           4       0.98      0.98      0.98        50\n",
      "           5       0.97      1.00      0.99        38\n",
      "           6       1.00      1.00      1.00        42\n",
      "           7       0.96      1.00      0.98        45\n",
      "           8       0.97      0.89      0.93        44\n",
      "           9       0.98      0.95      0.96        43\n",
      "\n",
      "    accuracy                           0.98       450\n",
      "   macro avg       0.98      0.98      0.98       450\n",
      "weighted avg       0.98      0.98      0.98       450\n",
      "\n"
     ]
    }
   ],
   "source": [
    "print(classification_report(y_true=esperado, y_pred=prediccion, target_names=nombres))"
   ]
  },
  {
   "cell_type": "markdown",
   "id": "34eceb5d-1f9b-4722-98cf-32348fd30e9e",
   "metadata": {},
   "source": [
    "Y ahora se creara un heatmap con la matriz de confusion"
   ]
  },
  {
   "cell_type": "code",
   "execution_count": 33,
   "id": "c358c447-69f2-45ae-956e-c16e8c89648b",
   "metadata": {},
   "outputs": [],
   "source": [
    "import pandas as pd"
   ]
  },
  {
   "cell_type": "code",
   "execution_count": 34,
   "id": "77471bd7-2c5e-45c1-9efe-ce921556912d",
   "metadata": {},
   "outputs": [],
   "source": [
    "confusion_df = pd.DataFrame(confusion)"
   ]
  },
  {
   "cell_type": "code",
   "execution_count": 35,
   "id": "43017c80-71ae-45f9-8336-df8b55cfa315",
   "metadata": {},
   "outputs": [
    {
     "data": {
      "text/html": [
       "<div>\n",
       "<style scoped>\n",
       "    .dataframe tbody tr th:only-of-type {\n",
       "        vertical-align: middle;\n",
       "    }\n",
       "\n",
       "    .dataframe tbody tr th {\n",
       "        vertical-align: top;\n",
       "    }\n",
       "\n",
       "    .dataframe thead th {\n",
       "        text-align: right;\n",
       "    }\n",
       "</style>\n",
       "<table border=\"1\" class=\"dataframe\">\n",
       "  <thead>\n",
       "    <tr style=\"text-align: right;\">\n",
       "      <th></th>\n",
       "      <th>0</th>\n",
       "      <th>1</th>\n",
       "      <th>2</th>\n",
       "      <th>3</th>\n",
       "      <th>4</th>\n",
       "      <th>5</th>\n",
       "      <th>6</th>\n",
       "      <th>7</th>\n",
       "      <th>8</th>\n",
       "      <th>9</th>\n",
       "    </tr>\n",
       "  </thead>\n",
       "  <tbody>\n",
       "    <tr>\n",
       "      <th>0</th>\n",
       "      <td>45</td>\n",
       "      <td>0</td>\n",
       "      <td>0</td>\n",
       "      <td>0</td>\n",
       "      <td>0</td>\n",
       "      <td>0</td>\n",
       "      <td>0</td>\n",
       "      <td>0</td>\n",
       "      <td>0</td>\n",
       "      <td>0</td>\n",
       "    </tr>\n",
       "    <tr>\n",
       "      <th>1</th>\n",
       "      <td>0</td>\n",
       "      <td>45</td>\n",
       "      <td>0</td>\n",
       "      <td>0</td>\n",
       "      <td>0</td>\n",
       "      <td>0</td>\n",
       "      <td>0</td>\n",
       "      <td>0</td>\n",
       "      <td>0</td>\n",
       "      <td>0</td>\n",
       "    </tr>\n",
       "    <tr>\n",
       "      <th>2</th>\n",
       "      <td>0</td>\n",
       "      <td>0</td>\n",
       "      <td>54</td>\n",
       "      <td>0</td>\n",
       "      <td>0</td>\n",
       "      <td>0</td>\n",
       "      <td>0</td>\n",
       "      <td>0</td>\n",
       "      <td>0</td>\n",
       "      <td>0</td>\n",
       "    </tr>\n",
       "    <tr>\n",
       "      <th>3</th>\n",
       "      <td>0</td>\n",
       "      <td>0</td>\n",
       "      <td>0</td>\n",
       "      <td>42</td>\n",
       "      <td>0</td>\n",
       "      <td>1</td>\n",
       "      <td>0</td>\n",
       "      <td>1</td>\n",
       "      <td>0</td>\n",
       "      <td>0</td>\n",
       "    </tr>\n",
       "    <tr>\n",
       "      <th>4</th>\n",
       "      <td>0</td>\n",
       "      <td>0</td>\n",
       "      <td>0</td>\n",
       "      <td>0</td>\n",
       "      <td>49</td>\n",
       "      <td>0</td>\n",
       "      <td>0</td>\n",
       "      <td>1</td>\n",
       "      <td>0</td>\n",
       "      <td>0</td>\n",
       "    </tr>\n",
       "    <tr>\n",
       "      <th>5</th>\n",
       "      <td>0</td>\n",
       "      <td>0</td>\n",
       "      <td>0</td>\n",
       "      <td>0</td>\n",
       "      <td>0</td>\n",
       "      <td>38</td>\n",
       "      <td>0</td>\n",
       "      <td>0</td>\n",
       "      <td>0</td>\n",
       "      <td>0</td>\n",
       "    </tr>\n",
       "    <tr>\n",
       "      <th>6</th>\n",
       "      <td>0</td>\n",
       "      <td>0</td>\n",
       "      <td>0</td>\n",
       "      <td>0</td>\n",
       "      <td>0</td>\n",
       "      <td>0</td>\n",
       "      <td>42</td>\n",
       "      <td>0</td>\n",
       "      <td>0</td>\n",
       "      <td>0</td>\n",
       "    </tr>\n",
       "    <tr>\n",
       "      <th>7</th>\n",
       "      <td>0</td>\n",
       "      <td>0</td>\n",
       "      <td>0</td>\n",
       "      <td>0</td>\n",
       "      <td>0</td>\n",
       "      <td>0</td>\n",
       "      <td>0</td>\n",
       "      <td>45</td>\n",
       "      <td>0</td>\n",
       "      <td>0</td>\n",
       "    </tr>\n",
       "    <tr>\n",
       "      <th>8</th>\n",
       "      <td>0</td>\n",
       "      <td>1</td>\n",
       "      <td>1</td>\n",
       "      <td>2</td>\n",
       "      <td>0</td>\n",
       "      <td>0</td>\n",
       "      <td>0</td>\n",
       "      <td>0</td>\n",
       "      <td>39</td>\n",
       "      <td>1</td>\n",
       "    </tr>\n",
       "    <tr>\n",
       "      <th>9</th>\n",
       "      <td>0</td>\n",
       "      <td>0</td>\n",
       "      <td>0</td>\n",
       "      <td>0</td>\n",
       "      <td>1</td>\n",
       "      <td>0</td>\n",
       "      <td>0</td>\n",
       "      <td>0</td>\n",
       "      <td>1</td>\n",
       "      <td>41</td>\n",
       "    </tr>\n",
       "  </tbody>\n",
       "</table>\n",
       "</div>"
      ],
      "text/plain": [
       "    0   1   2   3   4   5   6   7   8   9\n",
       "0  45   0   0   0   0   0   0   0   0   0\n",
       "1   0  45   0   0   0   0   0   0   0   0\n",
       "2   0   0  54   0   0   0   0   0   0   0\n",
       "3   0   0   0  42   0   1   0   1   0   0\n",
       "4   0   0   0   0  49   0   0   1   0   0\n",
       "5   0   0   0   0   0  38   0   0   0   0\n",
       "6   0   0   0   0   0   0  42   0   0   0\n",
       "7   0   0   0   0   0   0   0  45   0   0\n",
       "8   0   1   1   2   0   0   0   0  39   1\n",
       "9   0   0   0   0   1   0   0   0   1  41"
      ]
     },
     "execution_count": 35,
     "metadata": {},
     "output_type": "execute_result"
    }
   ],
   "source": [
    "confusion_df"
   ]
  },
  {
   "cell_type": "code",
   "execution_count": 36,
   "id": "b6e28188-a147-4f48-8b0c-f19e358f0054",
   "metadata": {},
   "outputs": [],
   "source": [
    "import seaborn as sns"
   ]
  },
  {
   "cell_type": "code",
   "execution_count": 37,
   "id": "1d605c32-20c1-47b8-b401-cfe7d4d19471",
   "metadata": {},
   "outputs": [
    {
     "data": {
      "image/png": "[encoded data removed]",
      "text/plain": [
       "<Figure size 640x480 with 2 Axes>"
      ]
     },
     "metadata": {},
     "output_type": "display_data"
    }
   ],
   "source": [
    "axes = sns.heatmap(confusion_df, annot=True)"
   ]
  },
  {
   "cell_type": "markdown",
   "id": "4bb2a9a2-2605-4ae3-b6e3-ee6fb77828e1",
   "metadata": {},
   "source": [
    "### 8.- K-Fold Validación Cruzada"
   ]
  },
  {
   "cell_type": "markdown",
   "id": "15435524-6cfb-4dfa-a575-cc3198db0cb3",
   "metadata": {},
   "source": [
    "Se importa kfold desde sklearn.modelselection"
   ]
  },
  {
   "cell_type": "code",
   "execution_count": 38,
   "id": "f273eafd-7f2e-4aca-873d-aa1e5e404fc3",
   "metadata": {},
   "outputs": [],
   "source": [
    "from sklearn.model_selection import KFold"
   ]
  },
  {
   "cell_type": "raw",
   "id": "f72d3700-0597-4128-8c22-889f76a26c07",
   "metadata": {},
   "source": [
    "Se crea un objeto kfold"
   ]
  },
  {
   "cell_type": "code",
   "execution_count": 39,
   "id": "d71e3048-7000-4ffe-a58c-484b2f45071e",
   "metadata": {},
   "outputs": [],
   "source": [
    "kfold = KFold(n_splits=20, shuffle=True, random_state=11)"
   ]
  },
  {
   "cell_type": "markdown",
   "id": "1bfd7fd5-5858-46aa-83d2-91eefb64ebf2",
   "metadata": {},
   "source": [
    "Ahora se importa cross_val_score"
   ]
  },
  {
   "cell_type": "code",
   "execution_count": 40,
   "id": "234f9bf6-af76-484b-8b85-6c07201a8ac4",
   "metadata": {},
   "outputs": [],
   "source": [
    "from sklearn.model_selection import cross_val_score"
   ]
  },
  {
   "cell_type": "markdown",
   "id": "47a4c6ad-b28c-4498-abe3-de6c30868b83",
   "metadata": {},
   "source": [
    "Y creamos un objeto llamado puntuacion para evaluar el modelo"
   ]
  },
  {
   "cell_type": "code",
   "execution_count": 41,
   "id": "7e2b2c1d-a795-44f0-96a6-9b8b5aed4688",
   "metadata": {},
   "outputs": [],
   "source": [
    "puntuacion = cross_val_score(estimator=knn, X=digits.data, y=digits.target, cv=kfold)"
   ]
  },
  {
   "cell_type": "code",
   "execution_count": 42,
   "id": "88cbca36-c63f-4db7-8f7b-ab3e5d9433f9",
   "metadata": {},
   "outputs": [
    {
     "data": {
      "text/plain": [
       "array([0.98888889, 0.97777778, 0.98888889, 1.        , 0.97777778,\n",
       "       1.        , 0.97777778, 0.98888889, 1.        , 0.97777778,\n",
       "       1.        , 0.98888889, 0.96666667, 0.98888889, 0.97777778,\n",
       "       0.98888889, 1.        , 1.        , 1.        , 0.97752809])"
      ]
     },
     "execution_count": 42,
     "metadata": {},
     "output_type": "execute_result"
    }
   ],
   "source": [
    "puntuacion"
   ]
  },
  {
   "cell_type": "code",
   "execution_count": 43,
   "id": "f742bacc-4463-4dab-8272-7cd3b21fc2c9",
   "metadata": {},
   "outputs": [
    {
     "data": {
      "text/plain": [
       "0.9883208489388267"
      ]
     },
     "execution_count": 43,
     "metadata": {},
     "output_type": "execute_result"
    }
   ],
   "source": [
    "puntuacion.mean()"
   ]
  },
  {
   "cell_type": "code",
   "execution_count": 44,
   "id": "8ec1488c-352e-4a83-b18f-a74e972075e1",
   "metadata": {},
   "outputs": [
    {
     "data": {
      "text/plain": [
       "0.01024188217132169"
      ]
     },
     "execution_count": 44,
     "metadata": {},
     "output_type": "execute_result"
    }
   ],
   "source": [
    "puntuacion.std()"
   ]
  },
  {
   "cell_type": "markdown",
   "id": "43ea7612-ba94-4d9f-bf08-c8a45de25deb",
   "metadata": {},
   "source": [
    "### 9.- Varios Modelos hasta dar con el bueno"
   ]
  },
  {
   "cell_type": "markdown",
   "id": "ea4fa4d8-8d8b-48a1-a946-1b4fbef27b98",
   "metadata": {},
   "source": [
    "Se importa los modelos SVC y GaussianNB"
   ]
  },
  {
   "cell_type": "code",
   "execution_count": 45,
   "id": "357084db-9852-4f6d-8681-5b02451222fb",
   "metadata": {},
   "outputs": [],
   "source": [
    "from sklearn.svm import SVC\n",
    "from sklearn.naive_bayes import GaussianNB"
   ]
  },
  {
   "cell_type": "markdown",
   "id": "aaffb0e9-cf25-4617-8ed9-2dd261cea9e1",
   "metadata": {},
   "source": [
    "Se crean los estimadores en un diccionario"
   ]
  },
  {
   "cell_type": "code",
   "execution_count": 46,
   "id": "0e43bb3b-874a-4a69-9efc-d2fbb42d8866",
   "metadata": {},
   "outputs": [],
   "source": [
    "estimadores = {\"KNeighborsClassifier\":knn, \"SVC\":SVC(gamma=\"scale\"), \"GuassianNB\":GaussianNB()}"
   ]
  },
  {
   "cell_type": "markdown",
   "id": "d49140b0-dc76-44ab-9273-96bbaa4b151d",
   "metadata": {},
   "source": [
    "Se ejecutan los modelos con un for"
   ]
  },
  {
   "cell_type": "code",
   "execution_count": 47,
   "id": "90d44906-3718-46e6-94ae-c16e66cd2ca1",
   "metadata": {},
   "outputs": [
    {
     "name": "stdout",
     "output_type": "stream",
     "text": [
      "KNeighborsClassifier - Promedio = 98.83% | Desviación estandar = 1.02%\n",
      "                 SVC - Promedio = 98.78% | Desviación estandar = 1.22%\n",
      "          GuassianNB - Promedio = 84.30% | Desviación estandar = 4.35%\n"
     ]
    }
   ],
   "source": [
    "for nombre_estimador, objeto_estimador in estimadores.items():\n",
    "    kfold = KFold(n_splits=20, random_state=11, shuffle=True)\n",
    "    puntuacion = cross_val_score(estimator=objeto_estimador, X=digits.data, y=digits.target, cv=kfold)\n",
    "    print(f'{nombre_estimador:>20} - ' + f'Promedio = {puntuacion.mean():.2%} | ' + f'Desviación estandar = {puntuacion.std():.2%}')"
   ]
  },
  {
   "cell_type": "markdown",
   "id": "31b8144f-a636-4f34-9a6f-c54817292860",
   "metadata": {},
   "source": [
    "### 10.- Ajustar Hiperparametros"
   ]
  },
  {
   "cell_type": "markdown",
   "id": "4bf5a569-8f8f-494a-93c6-714e43d4b01c",
   "metadata": {},
   "source": [
    "Se ajusta el hiperparametro para ver si se obtine una mejor exactitud"
   ]
  },
  {
   "cell_type": "code",
   "execution_count": 48,
   "id": "4381e1cb-a0c4-4e7b-916e-50157e2c5c62",
   "metadata": {},
   "outputs": [
    {
     "name": "stdout",
     "output_type": "stream",
     "text": [
      "k = 1  - Promedio = 98.83% | Desviación estandar = 0.96%\n",
      "k = 3  - Promedio = 98.78% | Desviación estandar = 1.16%\n",
      "k = 5  - Promedio = 98.83% | Desviación estandar = 1.02%\n",
      "k = 7  - Promedio = 98.50% | Desviación estandar = 1.23%\n",
      "k = 9  - Promedio = 98.39% | Desviación estandar = 1.25%\n",
      "k = 11 - Promedio = 98.39% | Desviación estandar = 1.14%\n",
      "k = 13 - Promedio = 98.16% | Desviación estandar = 1.18%\n",
      "k = 15 - Promedio = 98.11% | Desviación estandar = 1.37%\n",
      "k = 17 - Promedio = 97.66% | Desviación estandar = 1.27%\n",
      "k = 19 - Promedio = 97.61% | Desviación estandar = 1.43%\n"
     ]
    }
   ],
   "source": [
    "for k in range(1,20,2):\n",
    "    kfold = KFold(n_splits=20, random_state=11, shuffle=True)\n",
    "    knn = KNeighborsClassifier(n_neighbors=k)\n",
    "    puntuacion = cross_val_score(estimator=knn, X=digits.data, y=digits.target, cv=kfold)\n",
    "    print(f'k = {k:<2} - ' + f'Promedio = {puntuacion.mean():.2%} | ' + f'Desviación estandar = {puntuacion.std():.2%}')"
   ]
  }
 ],
 "metadata": {
  "kernelspec": {
   "display_name": "Python 3 (ipykernel)",
   "language": "python",
   "name": "python3"
  },
  "language_info": {
   "codemirror_mode": {
    "name": "ipython",
    "version": 3
   },
   "file_extension": ".py",
   "mimetype": "text/x-python",
   "name": "python",
   "nbconvert_exporter": "python",
   "pygments_lexer": "ipython3",
   "version": "3.12.7"
  }
 },
 "nbformat": 4,
 "nbformat_minor": 5
}
